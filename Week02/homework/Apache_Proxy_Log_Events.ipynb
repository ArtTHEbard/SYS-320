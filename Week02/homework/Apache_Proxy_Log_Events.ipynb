{
 "cells": [
  {
   "cell_type": "markdown",
   "source": [
    "# Review system Logs (Week 1 Homework)\n",
    "## Code by Sam Johnson"
   ],
   "metadata": {
    "collapsed": false
   }
  },
  {
   "cell_type": "markdown",
   "source": [
    "### Import Modules"
   ],
   "metadata": {
    "collapsed": false,
    "pycharm": {
     "name": "#%% md\n"
    }
   }
  },
  {
   "cell_type": "code",
   "execution_count": 43,
   "outputs": [
    {
     "data": {
      "text/plain": "<module 'apacheLog' from 'C:\\\\Users\\\\trini\\\\PycharmProjects\\\\SYS-320\\\\Week02\\\\homework\\\\apacheLog.py'>"
     },
     "execution_count": 43,
     "metadata": {},
     "output_type": "execute_result"
    }
   ],
   "source": [
    "import apacheLog\n",
    "import importlib\n",
    "importlib.reload(apacheLog)"
   ],
   "metadata": {
    "collapsed": false,
    "pycharm": {
     "name": "#%%\n"
    }
   }
  },
  {
   "cell_type": "markdown",
   "source": [
    "## APACHE PHP"
   ],
   "metadata": {
    "collapsed": false,
    "pycharm": {
     "name": "#%% md\n"
    }
   }
  },
  {
   "cell_type": "code",
   "execution_count": 44,
   "outputs": [
    {
     "name": "stdout",
     "output_type": "stream",
     "text": [
      "QQ.exe   tcpconn3.tencent.com:80   0   0\n",
      "QQ.exe   tcpconn6.tencent.com:80   0   0\n",
      "QQ.exe   tcpconn3.tencent.com:443   149   121\n",
      "QQ.exe   tcpconn6.tencent.com:443   0   0\n",
      "QQ.exe   cgi.qqweb.qq.com:80   477   448\n",
      "QQ.exe   tcpconn.tencent.com:80   133   0\n",
      "QQProtectUpd.exe   qdun-data.qq.com:443   261   70\n"
     ]
    }
   ],
   "source": [
    "apacheLog.apache_remote('../../logs/Proxifier_2k.log', 'proxy', 'remote')"
   ],
   "metadata": {
    "collapsed": false,
    "pycharm": {
     "name": "#%%\n"
    }
   }
  },
  {
   "cell_type": "code",
   "execution_count": 45,
   "outputs": [
    {
     "name": "stdout",
     "output_type": "stream",
     "text": [
      "QQProtectUpd.exe   qdun-data.qq.com:443   proxy.cse.cuhk.edu.hk:5070\n",
      "QQ.exe   tcpconn6.tencent.com:443   proxy.cse.cuhk.edu.hk:5070\n",
      "QQ.exe   cgi.qqweb.qq.com:80   proxy.cse.cuhk.edu.hk:5070\n",
      "QQ.exe   tcpconn.tencent.com:80   proxy.cse.cuhk.edu.hk:5070\n",
      "QQ.exe   183.60.49.182:443   proxy.cse.cuhk.edu.hk:5070\n",
      "QQ.exe   tcpconn6.tencent.com:80   proxy.cse.cuhk.edu.hk:5070\n",
      "QQ.exe   tcpconn3.tencent.com:443   proxy.cse.cuhk.edu.hk:5070\n",
      "QQPlayer.exe   btrace.qq.com:80   proxy.cse.cuhk.edu.hk:5070\n"
     ]
    }
   ],
   "source": [
    "apacheLog.apache_proxy('../../logs/Proxifier_2k.log', 'proxy', 'proxy')"
   ],
   "metadata": {
    "collapsed": false,
    "pycharm": {
     "name": "#%%\n"
    }
   }
  }
 ],
 "metadata": {
  "kernelspec": {
   "display_name": "Python 3",
   "language": "python",
   "name": "python3"
  },
  "language_info": {
   "codemirror_mode": {
    "name": "ipython",
    "version": 2
   },
   "file_extension": ".py",
   "mimetype": "text/x-python",
   "name": "python",
   "nbconvert_exporter": "python",
   "pygments_lexer": "ipython2",
   "version": "2.7.6"
  }
 },
 "nbformat": 4,
 "nbformat_minor": 0
}