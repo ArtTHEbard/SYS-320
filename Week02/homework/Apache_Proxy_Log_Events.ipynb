{
 "cells": [
  {
   "cell_type": "markdown",
   "source": [
    "# Review system Logs (Week 1 Homework)\n",
    "## Code by Sam Johnson"
   ],
   "metadata": {
    "collapsed": false
   }
  },
  {
   "cell_type": "markdown",
   "source": [
    "### Import Modules"
   ],
   "metadata": {
    "collapsed": false,
    "pycharm": {
     "name": "#%% md\n"
    }
   }
  },
  {
   "cell_type": "code",
   "execution_count": 11,
   "outputs": [
    {
     "data": {
      "text/plain": "<module 'apacheLog' from 'C:\\\\Users\\\\trini\\\\PycharmProjects\\\\SYS-320\\\\Week02\\\\homework\\\\apacheLog.py'>"
     },
     "execution_count": 11,
     "metadata": {},
     "output_type": "execute_result"
    }
   ],
   "source": [
    "import apacheLog\n",
    "import importlib\n",
    "importlib.reload(apacheLog)"
   ],
   "metadata": {
    "collapsed": false,
    "pycharm": {
     "name": "#%%\n"
    }
   }
  },
  {
   "cell_type": "markdown",
   "source": [
    "## APACHE PHP"
   ],
   "metadata": {
    "collapsed": false,
    "pycharm": {
     "name": "#%% md\n"
    }
   }
  },
  {
   "cell_type": "code",
   "execution_count": 12,
   "outputs": [
    {
     "name": "stdout",
     "output_type": "stream",
     "text": [
      "QQ.exe tcpconn6.tencent.com:443 0 0\n",
      "QQ.exe cgi.qqweb.qq.com:80 through HTTPS\n",
      "QQ.exe tcpconn6.tencent.com:80 0 0\n",
      "QQProtectUpd.exe qdun-data.qq.com:443 261 70\n",
      "QQ.exe showxml.qq.com:80 600 1716\n",
      "QQ.exe cgi.qqweb.qq.com:80 477 448\n",
      "QQ.exe 2052.flash2-http.qq.com:80 466 125682\n",
      "QQ.exe tcpconn3.tencent.com:443 through HTTPS\n",
      "QQ.exe tcpconn6.tencent.com:80 through HTTPS\n",
      "QQ.exe tcpconn.tencent.com:80 through HTTPS\n",
      "QQ.exe 183.60.49.182:443 through HTTPS\n",
      "QQ.exe tcpconn6.tencent.com:443 : request\n",
      "QQExternal.exe proxy.cse.cuhk.edu.hk:5070 1644 KB)\n",
      "QQ.exe tcpconn4.tencent.com:80 : connect\n",
      "QQPlayer.exe btrace.qq.com:80 through HTTPS\n",
      "QQProtectUpd.exe qdun-data.qq.com:443 through HTTPS\n",
      "QQ.exe tcpconn6.tencent.com:443 through HTTPS\n",
      "QQ.exe tcpconn3.tencent.com:80 0 0\n",
      "QQ.exe tcpconn.tencent.com:80 133 0\n",
      "QQProtectUpd.exe qd-update.qq.com:8080 : connect\n",
      "QQ.exe qqmail.tencent.com:80 336 2854\n",
      "QQ.exe tcpconn3.tencent.com:443 149 121\n"
     ]
    }
   ],
   "source": [
    "apacheLog.apache_event('../../logs/Proxifier_2k.log', 'proxy', 'qq')"
   ],
   "metadata": {
    "collapsed": false,
    "pycharm": {
     "name": "#%%\n"
    }
   }
  }
 ],
 "metadata": {
  "kernelspec": {
   "display_name": "Python 3",
   "language": "python",
   "name": "python3"
  },
  "language_info": {
   "codemirror_mode": {
    "name": "ipython",
    "version": 2
   },
   "file_extension": ".py",
   "mimetype": "text/x-python",
   "name": "python",
   "nbconvert_exporter": "python",
   "pygments_lexer": "ipython2",
   "version": "2.7.6"
  }
 },
 "nbformat": 4,
 "nbformat_minor": 0
}