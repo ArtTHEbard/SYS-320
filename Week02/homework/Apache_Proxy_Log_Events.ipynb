{
 "cells": [
  {
   "cell_type": "markdown",
   "source": [
    "# Review system Logs (Week 1 Homework)\n",
    "## Code by Sam Johnson"
   ],
   "metadata": {
    "collapsed": false
   }
  },
  {
   "cell_type": "markdown",
   "source": [
    "### Import Modules"
   ],
   "metadata": {
    "collapsed": false,
    "pycharm": {
     "name": "#%% md\n"
    }
   }
  },
  {
   "cell_type": "code",
   "execution_count": 50,
   "outputs": [
    {
     "data": {
      "text/plain": "<module 'apacheLog' from 'C:\\\\Users\\\\trini\\\\PycharmProjects\\\\SYS-320\\\\Week02\\\\homework\\\\apacheLog.py'>"
     },
     "execution_count": 50,
     "metadata": {},
     "output_type": "execute_result"
    }
   ],
   "source": [
    "import apacheLog\n",
    "import importlib\n",
    "importlib.reload(apacheLog)"
   ],
   "metadata": {
    "collapsed": false,
    "pycharm": {
     "name": "#%%\n"
    }
   }
  },
  {
   "cell_type": "markdown",
   "source": [
    "## APACHE PHP"
   ],
   "metadata": {
    "collapsed": false,
    "pycharm": {
     "name": "#%% md\n"
    }
   }
  },
  {
   "cell_type": "code",
   "execution_count": 51,
   "outputs": [
    {
     "name": "stdout",
     "output_type": "stream",
     "text": [
      "QQ.exe   tcpconn3.tencent.com:80   0   0\n",
      "QQ.exe   tcpconn6.tencent.com:80   0   0\n",
      "QQ.exe   tcpconn3.tencent.com:443   149   121\n",
      "QQ.exe   tcpconn6.tencent.com:443   0   0\n",
      "QQ.exe   cgi.qqweb.qq.com:80   477   448\n",
      "QQ.exe   tcpconn.tencent.com:80   133   0\n",
      "QQProtectUpd.exe   qdun-data.qq.com:443   261   70\n"
     ]
    }
   ],
   "source": [
    "apacheLog.apache_remote('../../logs/Proxifier_2k.log', 'proxy', 'remote')"
   ],
   "metadata": {
    "collapsed": false,
    "pycharm": {
     "name": "#%%\n"
    }
   }
  },
  {
   "cell_type": "code",
   "execution_count": 52,
   "outputs": [
    {
     "name": "stdout",
     "output_type": "stream",
     "text": [
      "QQProtectUpd.exe   qdun-data.qq.com:443   proxy.cse.cuhk.edu.hk:5070\n",
      "QQ.exe   tcpconn6.tencent.com:443   proxy.cse.cuhk.edu.hk:5070\n",
      "QQ.exe   cgi.qqweb.qq.com:80   proxy.cse.cuhk.edu.hk:5070\n",
      "QQ.exe   tcpconn.tencent.com:80   proxy.cse.cuhk.edu.hk:5070\n",
      "QQ.exe   183.60.49.182:443   proxy.cse.cuhk.edu.hk:5070\n",
      "QQ.exe   tcpconn6.tencent.com:80   proxy.cse.cuhk.edu.hk:5070\n",
      "QQ.exe   tcpconn3.tencent.com:443   proxy.cse.cuhk.edu.hk:5070\n",
      "QQPlayer.exe   btrace.qq.com:80   proxy.cse.cuhk.edu.hk:5070\n"
     ]
    }
   ],
   "source": [
    "apacheLog.apache_proxy('../../logs/Proxifier_2k.log', 'proxy', 'proxy')"
   ],
   "metadata": {
    "collapsed": false,
    "pycharm": {
     "name": "#%%\n"
    }
   }
  },
  {
   "cell_type": "markdown",
   "source": [
    "## Homework Questions\n",
    "### What is your interpretation of the results that you discovered (Did the files match known threat intell information?  Was there activity to and from the same remote host?)\n",
    "My interpretation of this data is that there is certainly some kind of attack/probe happening in the environment based off of the presence of QQ file prefixes doing actions such as opening proxy sessions and sending and receiving data from our hosts. In the found logs, there were multiple references to proxies and data transfers from multiple hosts associated with the tencent.com domain.  From this information we can deduce that this domain contains an attacking entity or at least is being used to stage an attack.\n",
    "### What did you like the most and least about this assignment? NOTE: These help me understand how to improve on assignments and know what is working.\n",
    "I liked this assignment in terms of showcasing how modular our code can be to fight different attacks. There was not anything of note that I disliked about this assignment.\n",
    "### What additional questions do you have about this week's material?\n",
    "No additional questions."
   ],
   "metadata": {
    "collapsed": false,
    "pycharm": {
     "name": "#%% md\n"
    }
   }
  }
 ],
 "metadata": {
  "kernelspec": {
   "display_name": "Python 3",
   "language": "python",
   "name": "python3"
  },
  "language_info": {
   "codemirror_mode": {
    "name": "ipython",
    "version": 2
   },
   "file_extension": ".py",
   "mimetype": "text/x-python",
   "name": "python",
   "nbconvert_exporter": "python",
   "pygments_lexer": "ipython2",
   "version": "2.7.6"
  }
 },
 "nbformat": 4,
 "nbformat_minor": 0
}