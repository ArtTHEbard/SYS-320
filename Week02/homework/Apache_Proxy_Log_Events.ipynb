{
 "cells": [
  {
   "cell_type": "markdown",
   "source": [
    "# Review system Logs (Week 1 Homework)\n",
    "## Code by Sam Johnson"
   ],
   "metadata": {
    "collapsed": false
   }
  },
  {
   "cell_type": "markdown",
   "source": [
    "### Import Modules"
   ],
   "metadata": {
    "collapsed": false,
    "pycharm": {
     "name": "#%% md\n"
    }
   }
  },
  {
   "cell_type": "code",
   "execution_count": 9,
   "outputs": [
    {
     "data": {
      "text/plain": "<module 'apacheLog' from 'C:\\\\Users\\\\trini\\\\PycharmProjects\\\\SYS-320\\\\Week02\\\\homework\\\\apacheLog.py'>"
     },
     "execution_count": 9,
     "metadata": {},
     "output_type": "execute_result"
    }
   ],
   "source": [
    "import apacheLog\n",
    "import importlib\n",
    "importlib.reload(apacheLog)"
   ],
   "metadata": {
    "collapsed": false,
    "pycharm": {
     "name": "#%%\n"
    }
   }
  },
  {
   "cell_type": "markdown",
   "source": [
    "## APACHE PHP"
   ],
   "metadata": {
    "collapsed": false,
    "pycharm": {
     "name": "#%% md\n"
    }
   }
  },
  {
   "cell_type": "code",
   "execution_count": 10,
   "outputs": [
    {
     "name": "stdout",
     "output_type": "stream",
     "text": [
      "QQProtectUpd.exe qd-update.qq.com:8080 : Bytes Sent connect Bytes Recieved.\n",
      "QQ.exe tcpconn3.tencent.com:443 149 Bytes Sent 121 Bytes Recieved.\n",
      "QQ.exe showxml.qq.com:80 600 Bytes Sent 1716 Bytes Recieved.\n",
      "QQ.exe tcpconn3.tencent.com:80 0 Bytes Sent 0 Bytes Recieved.\n",
      "QQ.exe tcpconn.tencent.com:80 through Bytes Sent HTTPS Bytes Recieved.\n",
      "QQPlayer.exe btrace.qq.com:80 through Bytes Sent HTTPS Bytes Recieved.\n",
      "QQ.exe tcpconn6.tencent.com:443 : Bytes Sent request Bytes Recieved.\n",
      "QQProtectUpd.exe qdun-data.qq.com:443 261 Bytes Sent 70 Bytes Recieved.\n",
      "QQProtectUpd.exe qdun-data.qq.com:443 through Bytes Sent HTTPS Bytes Recieved.\n",
      "QQ.exe tcpconn6.tencent.com:80 through Bytes Sent HTTPS Bytes Recieved.\n",
      "QQ.exe tcpconn6.tencent.com:80 0 Bytes Sent 0 Bytes Recieved.\n",
      "QQ.exe tcpconn.tencent.com:80 133 Bytes Sent 0 Bytes Recieved.\n",
      "QQExternal.exe proxy.cse.cuhk.edu.hk:5070 1644 Bytes Sent KB) Bytes Recieved.\n",
      "QQ.exe cgi.qqweb.qq.com:80 through Bytes Sent HTTPS Bytes Recieved.\n",
      "QQ.exe tcpconn3.tencent.com:443 through Bytes Sent HTTPS Bytes Recieved.\n",
      "QQ.exe qqmail.tencent.com:80 336 Bytes Sent 2854 Bytes Recieved.\n",
      "QQ.exe 183.60.49.182:443 through Bytes Sent HTTPS Bytes Recieved.\n",
      "QQ.exe tcpconn6.tencent.com:443 through Bytes Sent HTTPS Bytes Recieved.\n",
      "QQ.exe cgi.qqweb.qq.com:80 477 Bytes Sent 448 Bytes Recieved.\n",
      "QQ.exe tcpconn6.tencent.com:443 0 Bytes Sent 0 Bytes Recieved.\n",
      "QQ.exe 2052.flash2-http.qq.com:80 466 Bytes Sent 125682 Bytes Recieved.\n",
      "QQ.exe tcpconn4.tencent.com:80 : Bytes Sent connect Bytes Recieved.\n"
     ]
    }
   ],
   "source": [
    "apacheLog.apache_event('../../logs/Proxifier_2k.log', 'proxy', 'qq')"
   ],
   "metadata": {
    "collapsed": false,
    "pycharm": {
     "name": "#%%\n"
    }
   }
  }
 ],
 "metadata": {
  "kernelspec": {
   "display_name": "Python 3",
   "language": "python",
   "name": "python3"
  },
  "language_info": {
   "codemirror_mode": {
    "name": "ipython",
    "version": 2
   },
   "file_extension": ".py",
   "mimetype": "text/x-python",
   "name": "python",
   "nbconvert_exporter": "python",
   "pygments_lexer": "ipython2",
   "version": "2.7.6"
  }
 },
 "nbformat": 4,
 "nbformat_minor": 0
}