{
 "cells": [
  {
   "cell_type": "markdown",
   "metadata": {},
   "source": [
    "# URLHAUS"
   ]
  },
  {
   "cell_type": "code",
   "execution_count": 23,
   "metadata": {},
   "outputs": [
    {
     "data": {
      "text/plain": "<module 'urlHaus' from 'C:\\\\Users\\\\trini\\\\PycharmProjects\\\\SYS-320\\\\Week03\\\\homework\\\\urlHaus.py'>"
     },
     "execution_count": 23,
     "metadata": {},
     "output_type": "execute_result"
    }
   ],
   "source": [
    "import urlHaus as u\n",
    "import importlib\n",
    "importlib.reload(u)\n"
   ]
  },
  {
   "cell_type": "code",
   "execution_count": 24,
   "metadata": {
    "pycharm": {
     "name": "#%%\n"
    }
   },
   "outputs": [
    {
     "name": "stdout",
     "output_type": "stream",
     "text": [
      "\\.win32.exe\n",
      "\n",
      "                        Time: 2022-01-31 07:37:06\n",
      "                        URL: hxxp://103.171.0.134/Registry/.win32.exe\n",
      "                        Info: malware_download\n",
      "                        ************************************************************\n",
      "                        \n",
      "\n",
      "                        Time: 2022-01-31 04:47:22\n",
      "                        URL: hxxp://198.46.132.195/Registry/.win32.exe\n",
      "                        Info: malware_download\n",
      "                        ************************************************************\n",
      "                        \n",
      "\n",
      "                        Time: 2022-01-31 04:47:19\n",
      "                        URL: hxxp://103.89.90.10/Registry/.win32.exe\n",
      "                        Info: malware_download\n",
      "                        ************************************************************\n",
      "                        \n",
      "\n",
      "                        Time: 2022-01-28 08:57:06\n",
      "                        URL: hxxp://103.171.0.134/googleCRC/.win32.exe\n",
      "                        Info: malware_download\n",
      "                        ************************************************************\n",
      "                        \n",
      "\n",
      "                        Time: 2022-01-28 08:56:05\n",
      "                        URL: hxxp://198.46.132.195/googleCRC/.win32.exe\n",
      "                        Info: malware_download\n",
      "                        ************************************************************\n",
      "                        \n",
      "\n",
      "                        Time: 2022-01-27 12:09:07\n",
      "                        URL: hxxp://103.171.0.134/glcouldB2/.win32.exe\n",
      "                        Info: malware_download\n",
      "                        ************************************************************\n",
      "                        \n",
      "\n",
      "                        Time: 2022-01-26 14:50:07\n",
      "                        URL: hxxp://103.171.0.134/couldA9/.win32.exe\n",
      "                        Info: malware_download\n",
      "                        ************************************************************\n",
      "                        \n",
      "\n",
      "                        Time: 2022-01-26 13:36:08\n",
      "                        URL: hxxp://103.89.90.10/couldA9/.win32.exe\n",
      "                        Info: malware_download\n",
      "                        ************************************************************\n",
      "                        \n",
      "\n",
      "                        Time: 2022-01-25 10:02:09\n",
      "                        URL: hxxp://103.114.105.38/gcould/.win32.exe\n",
      "                        Info: malware_download\n",
      "                        ************************************************************\n",
      "                        \n",
      "\n",
      "                        Time: 2022-01-24 16:10:06\n",
      "                        URL: hxxp://103.89.90.10/winos11pro/.win32.exe\n",
      "                        Info: malware_download\n",
      "                        ************************************************************\n",
      "                        \n",
      "\n",
      "                        Time: 2022-01-24 11:54:05\n",
      "                        URL: hxxp://103.89.90.10/googlecould/.win32.exe\n",
      "                        Info: malware_download\n",
      "                        ************************************************************\n",
      "                        \n",
      "\n",
      "                        Time: 2022-01-24 07:07:05\n",
      "                        URL: hxxp://103.114.105.38/googlecould/.win32.exe\n",
      "                        Info: malware_download\n",
      "                        ************************************************************\n",
      "                        \n",
      "\n",
      "                        Time: 2022-01-21 11:02:48\n",
      "                        URL: hxxp://103.114.105.38/intel087(R)/.win32.exe\n",
      "                        Info: malware_download\n",
      "                        ************************************************************\n",
      "                        \n",
      "\n",
      "                        Time: 2022-01-20 08:29:07\n",
      "                        URL: hxxp://103.114.105.38/intel(R)/.win32.exe\n",
      "                        Info: malware_download\n",
      "                        ************************************************************\n",
      "                        \n",
      "\n",
      "                        Time: 2022-01-20 08:29:06\n",
      "                        URL: hxxp://103.89.90.10/intel(R)/.win32.exe\n",
      "                        Info: malware_download\n",
      "                        ************************************************************\n",
      "                        \n",
      "\n",
      "                        Time: 2022-01-19 08:41:05\n",
      "                        URL: hxxp://103.114.105.38/intelpro/.win32.exe\n",
      "                        Info: malware_download\n",
      "                        ************************************************************\n",
      "                        \n",
      "\n",
      "                        Time: 2022-01-18 16:32:07\n",
      "                        URL: hxxp://103.89.90.10/oswindows10pro/.win32.exe\n",
      "                        Info: malware_download\n",
      "                        ************************************************************\n",
      "                        \n",
      "\n",
      "                        Time: 2022-01-18 16:32:06\n",
      "                        URL: hxxp://103.114.105.38/oswindows10pro/.win32.exe\n",
      "                        Info: malware_download\n",
      "                        ************************************************************\n",
      "                        \n",
      "\n",
      "                        Time: 2022-01-17 07:52:06\n",
      "                        URL: hxxp://103.114.105.38/winos11pro/.win32.exe\n",
      "                        Info: malware_download\n",
      "                        ************************************************************\n",
      "                        \n",
      "\n",
      "                        Time: 2022-01-13 14:58:06\n",
      "                        URL: hxxp://103.114.105.38/wwindows8/.win32.exe\n",
      "                        Info: malware_download\n",
      "                        ************************************************************\n",
      "                        \n",
      "\n",
      "                        Time: 2022-01-11 11:25:05\n",
      "                        URL: hxxp://103.114.105.38/windows10/.win32.exe\n",
      "                        Info: malware_download\n",
      "                        ************************************************************\n",
      "                        \n",
      "\n",
      "                        Time: 2022-01-10 15:27:07\n",
      "                        URL: hxxp://103.114.105.38/savecloud2091/.win32.exe\n",
      "                        Info: malware_download\n",
      "                        ************************************************************\n",
      "                        \n"
     ]
    }
   ],
   "source": [
    "u.urlHausOpen('../../logs/urlHaus.csv', ['\\.win32.exe'])"
   ]
  },
  {
   "cell_type": "markdown",
   "source": [
    "***\n",
    "## Homework Questions\n",
    "### 1. Provide the URL to the CSV documentation on the Python website.  Ensure you select the site with the appropriate version of Python you are using.\n",
    "https://docs.python.org/3/library/csv.html\n",
    "### 2. What option is used if the default delimiter is not a comma? Write the full syntax.  Example csv.function(option=x, option2=y)\n",
    "In this case, the 'delimiter' option can be utilized to set a custom delimiter. In this example, a space is set as the delimiter: csv.reader(csvfile, delimiter=' ')\n",
    "### 3.  In a CSV file that uses a comma as a delimiter, there may be a field that a comma within it.  What option does Python provide to escape the comma within the text of a field so it is differentiated with the comma as a field delimiter?  Write the full syntax.  Example csv.function(option=x, option2=y)\n",
    "In this case, the quotechar option can be used to notify Python that a field contains special characters such as the delimiter. An example is: csv.reader(csvfile, quotechar='|'). In this example, the '|' character is used to notify Python that this field has the default delimiter within it.\n",
    "### 4. What is the purpose of heredocs in Python?\n",
    "The purpose of heredocs in Python is to allow for the preservation of string formatting and line breaks within a Python string. Heredocs are denoted with (\"\"\") at the beginning and the end of the string, and allows the programmer to utilize line breaks and other formatting options to alter how the string appears in the output."
   ],
   "metadata": {
    "collapsed": false,
    "pycharm": {
     "name": "#%% md\n"
    }
   }
  },
  {
   "cell_type": "markdown",
   "source": [
    "***\n",
    "## Extra Questions\n",
    "### What did you like the most and least about this assignment?\n",
    "My most and least liked part of this assignment was the line by line analysis of the broken code, actually. Going line by line and writing comments was extremely tedious vs just fixing the code, but on the other hand it forced me to really analyze what was going on and why it was misbehaving, allowing me to find the best way to fix the problem faster.\n",
    "### What additional questions do you have?\n",
    "N/A"
   ],
   "metadata": {
    "collapsed": false,
    "pycharm": {
     "name": "#%% md\n"
    }
   }
  }
 ],
 "metadata": {
  "interpreter": {
   "hash": "e849244212d109cc3cb88a1154d46bb16288231cb9cc2770bd078951feabfff8"
  },
  "kernelspec": {
   "display_name": "Python 3.9.6 64-bit",
   "language": "python",
   "name": "python3"
  },
  "language_info": {
   "codemirror_mode": {
    "name": "ipython",
    "version": 3
   },
   "file_extension": ".py",
   "mimetype": "text/x-python",
   "name": "python",
   "nbconvert_exporter": "python",
   "pygments_lexer": "ipython3",
   "version": "3.10.2"
  },
  "orig_nbformat": 4
 },
 "nbformat": 4,
 "nbformat_minor": 2
}