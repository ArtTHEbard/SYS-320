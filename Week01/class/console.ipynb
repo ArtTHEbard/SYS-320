{
 "cells": [
  {
   "cell_type": "code",
   "execution_count": 32,
   "outputs": [
    {
     "data": {
      "text/plain": "<module 'syslogFTPConnect' from 'C:\\\\Users\\\\trini\\\\PycharmProjects\\\\SYS-320\\\\Week01\\\\class\\\\syslogFTPConnect.py'>"
     },
     "execution_count": 32,
     "metadata": {},
     "output_type": "execute_result"
    }
   ],
   "source": [
    "import syslogSSH\n",
    "import syslogFTPConnect\n",
    "import syslogSU\n",
    "import importlib\n",
    "importlib.reload(syslogSSH)\n",
    "importlib.reload(syslogSU)\n",
    "importlib.reload(syslogFTPConnect)"
   ],
   "metadata": {
    "collapsed": false,
    "pycharm": {
     "name": "#%%\n"
    }
   }
  },
  {
   "cell_type": "markdown",
   "source": [
    "# Review system Logs"
   ],
   "metadata": {
    "collapsed": false
   }
  },
  {
   "cell_type": "markdown",
   "source": [
    "### SSH Authentication Failure Domains"
   ],
   "metadata": {
    "collapsed": false
   }
  },
  {
   "cell_type": "code",
   "execution_count": 27,
   "outputs": [
    {
     "name": "stdout",
     "output_type": "stream",
     "text": [
      "rhost=220-135-151-1.hinet-ip.hinet.net\n",
      "rhost=218.188.2.4\n"
     ]
    }
   ],
   "source": [
    "syslogSSH.ssh_fail('../../logs/smallSyslog.log', ['sshd\\(pam_unix\\).*authentication failure.*'])"
   ],
   "metadata": {
    "collapsed": false,
    "pycharm": {
     "name": "#%%\n"
    }
   }
  },
  {
   "cell_type": "markdown",
   "source": [
    "### SU Open"
   ],
   "metadata": {
    "collapsed": false,
    "pycharm": {
     "name": "#%% md\n"
    }
   }
  },
  {
   "cell_type": "code",
   "execution_count": 28,
   "outputs": [
    {
     "name": "stdout",
     "output_type": "stream",
     "text": [
      "cyrus\n",
      "news\n"
     ]
    }
   ],
   "source": [
    "syslogSU.su_open('../../logs/smallSyslog.log', ['su\\(pam_unix\\).*session opened for user.*'])"
   ],
   "metadata": {
    "collapsed": false,
    "pycharm": {
     "name": "#%%\n"
    }
   }
  },
  {
   "cell_type": "markdown",
   "source": [
    "### FTP Connections"
   ],
   "metadata": {
    "collapsed": false,
    "pycharm": {
     "name": "#%% md\n"
    }
   }
  },
  {
   "cell_type": "code",
   "execution_count": 34,
   "outputs": [
    {
     "name": "stdout",
     "output_type": "stream",
     "text": [
      "206.47.209.10\n",
      "202.82.200.188\n",
      "211.107.232.1\n",
      "221.4.102.93\n",
      "211.72.2.106\n",
      "82.252.162.81\n",
      "61.74.96.178\n",
      "210.118.170.95\n",
      "84.102.20.2\n",
      "67.95.49.172\n",
      "203.101.45.59\n",
      "82.68.222.195\n",
      "82.83.227.67\n",
      "62.99.164.82\n",
      "211.72.151.162\n",
      "212.65.68.82\n",
      "83.116.207.11\n",
      "24.54.76.216\n",
      "207.30.238.8\n",
      "216.12.111.241\n",
      "218.69.108.57\n",
      "220.94.205.45\n",
      "218.146.61.230\n",
      "211.167.68.59\n",
      "82.68.222.194\n",
      "208.62.55.75\n",
      "172.181.208.156\n",
      "63.197.98.106\n",
      "81.171.220.226\n",
      "206.196.21.129\n",
      "210.223.97.117\n",
      "217.187.83.139\n",
      "211.42.188.206\n",
      "222.33.90.199\n",
      "210.245.165.136\n",
      "218.38.58.3\n",
      "217.187.83.50\n",
      "211.57.88.250\n"
     ]
    }
   ],
   "source": [
    "syslogFTPConnect.ftp_connect('../../logs/Linux_2k.log', ['ftpd.*connection from.*'])"
   ],
   "metadata": {
    "collapsed": false,
    "pycharm": {
     "name": "#%%\n"
    }
   }
  },
  {
   "cell_type": "code",
   "execution_count": null,
   "outputs": [],
   "source": [],
   "metadata": {
    "collapsed": false,
    "pycharm": {
     "name": "#%%\n"
    }
   }
  }
 ],
 "metadata": {
  "kernelspec": {
   "display_name": "Python 3",
   "language": "python",
   "name": "python3"
  },
  "language_info": {
   "codemirror_mode": {
    "name": "ipython",
    "version": 2
   },
   "file_extension": ".py",
   "mimetype": "text/x-python",
   "name": "python",
   "nbconvert_exporter": "python",
   "pygments_lexer": "ipython2",
   "version": "2.7.6"
  }
 },
 "nbformat": 4,
 "nbformat_minor": 0
}