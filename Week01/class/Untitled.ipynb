{
 "cells": [
  {
   "cell_type": "code",
   "execution_count": 1,
   "id": "fa2dffe7-d933-4638-ada5-907bd28efa41",
   "metadata": {},
   "outputs": [
    {
     "name": "stdout",
     "output_type": "stream",
     "text": [
      "3230\n"
     ]
    }
   ],
   "source": [
    "print(\"3230\")"
   ]
  },
  {
   "cell_type": "code",
   "execution_count": 3,
   "id": "8ad9f193-6c9e-40a9-8890-dfaf7f17466a",
   "metadata": {},
   "outputs": [
    {
     "name": "stdout",
     "output_type": "stream",
     "text": [
      "(\"hello world\")\n"
     ]
    }
   ],
   "source": [
    "echo(hello world)"
   ]
  },
  {
   "cell_type": "code",
   "execution_count": null,
   "id": "f0e8c03e-dfcf-4db9-9846-0a026a02ce6a",
   "metadata": {},
   "outputs": [],
   "source": []
  }
 ],
 "metadata": {
  "kernelspec": {
   "display_name": "Python 3 (ipykernel)",
   "language": "python",
   "name": "python3"
  },
  "language_info": {
   "codemirror_mode": {
    "name": "ipython",
    "version": 3
   },
   "file_extension": ".py",
   "mimetype": "text/x-python",
   "name": "python",
   "nbconvert_exporter": "python",
   "pygments_lexer": "ipython3",
   "version": "3.8.12"
  }
 },
 "nbformat": 4,
 "nbformat_minor": 5
}
