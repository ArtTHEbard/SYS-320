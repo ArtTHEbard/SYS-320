{
 "cells": [
  {
   "cell_type": "markdown",
   "source": [
    "# Review system Logs (Week 1 Homework\n",
    "## Code by Sam Johnson"
   ],
   "metadata": {
    "collapsed": false
   }
  },
  {
   "cell_type": "markdown",
   "source": [
    "### Import Modules"
   ],
   "metadata": {
    "collapsed": false,
    "pycharm": {
     "name": "#%% md\n"
    }
   }
  },
  {
   "cell_type": "code",
   "execution_count": 67,
   "outputs": [
    {
     "data": {
      "text/plain": "<module 'syslogSSHSuccess' from 'C:\\\\Users\\\\trini\\\\PycharmProjects\\\\SYS-320\\\\Week01\\\\homework\\\\syslogSSHSuccess.py'>"
     },
     "execution_count": 67,
     "metadata": {},
     "output_type": "execute_result"
    }
   ],
   "source": [
    "import syslogSSH\n",
    "import syslogFTPConnect\n",
    "import syslogSU\n",
    "import syslogSSHSuccess\n",
    "import syslogKlogind\n",
    "import importlib\n",
    "importlib.reload(syslogSSH)\n",
    "importlib.reload(syslogKlogind)\n",
    "importlib.reload(syslogSU)\n",
    "importlib.reload(syslogFTPConnect)\n",
    "importlib.reload(syslogSSHSuccess)"
   ],
   "metadata": {
    "collapsed": false,
    "pycharm": {
     "name": "#%%\n"
    }
   }
  },
  {
   "cell_type": "markdown",
   "source": [
    "### Specify Log File"
   ],
   "metadata": {
    "collapsed": false,
    "pycharm": {
     "name": "#%% md\n"
    }
   }
  },
  {
   "cell_type": "code",
   "execution_count": 68,
   "outputs": [],
   "source": [
    "logfile = '../../logs/Linux_2K.log'"
   ],
   "metadata": {
    "collapsed": false,
    "pycharm": {
     "name": "#%%\n"
    }
   }
  },
  {
   "cell_type": "markdown",
   "source": [
    "### Klogind Failure Domains (Homework Question 1)"
   ],
   "metadata": {
    "collapsed": false
   }
  },
  {
   "cell_type": "code",
   "execution_count": 69,
   "outputs": [
    {
     "name": "stdout",
     "output_type": "stream",
     "text": [
      "163.27.187.39\n"
     ]
    }
   ],
   "source": [
    "syslogKlogind.klog_fail(logfile, ['klogind.*Authentication failed.*'])"
   ],
   "metadata": {
    "collapsed": false,
    "pycharm": {
     "name": "#%%\n"
    }
   }
  },
  {
   "cell_type": "markdown",
   "source": [
    "### SSH Authentication Success Users (HW Question 2)"
   ],
   "metadata": {
    "collapsed": false
   }
  },
  {
   "cell_type": "code",
   "execution_count": 74,
   "outputs": [
    {
     "name": "stdout",
     "output_type": "stream",
     "text": [
      "test\n"
     ]
    }
   ],
   "source": [
    "syslogSSHSuccess.ssh_success(logfile,  ['sshd\\(pam_unix\\).*session opened for user.*'])"
   ],
   "metadata": {
    "collapsed": false,
    "pycharm": {
     "name": "#%%\n"
    }
   }
  },
  {
   "cell_type": "markdown",
   "source": [
    "### SSH Authentication Failure Domains"
   ],
   "metadata": {
    "collapsed": false
   }
  },
  {
   "cell_type": "code",
   "execution_count": 71,
   "outputs": [
    {
     "name": "stdout",
     "output_type": "stream",
     "text": [
      "rhost=n219076184117.netvigator.com\n",
      "rhost=212.0.132.20\n",
      "rhost=200.60.37.201\n",
      "rhost=218.22.3.51\n",
      "rhost=211.137.205.253\n",
      "rhost=csnsu.nsuok.edu\n",
      "rhost=82.77.200.128\n",
      "rhost=zummit.com\n",
      "rhost=211.115.206.155\n",
      "rhost=218.55.234.102\n",
      "rhost=65.166.159.14\n",
      "rhost=220.117.241.87\n",
      "rhost=218.16.122.48\n",
      "rhost=202.181.236.180\n",
      "rhost=207.243.167.114\n",
      "rhost=061092085098.ctinets.com\n",
      "rhost=biblioteka.wsi.edu.pl\n",
      "rhost=217.60.212.66\n",
      "rhost=193.110.106.11\n",
      "rhost=61.53.154.93\n",
      "rhost=209.152.168.249\n",
      "rhost=202-132-40-29.adsl.ttn.net\n",
      "rhost=adsl-70-242-75-179.dsl.ksc2mo.swbell.net\n",
      "rhost=ip-216-69-169-168.ip.secureserver.net\n",
      "rhost=150.183.249.110\n",
      "rhost=210.229.150.228\n",
      "rhost=211.9.58.217\n",
      "rhost=203.251.225.101\n",
      "rhost=211.214.161.141\n",
      "rhost=68.143.156.89.nw.nuvox.net\n",
      "rhost=62-192-102-94.dsl.easynet.nl\n",
      "rhost=c51471f2c.cable.wanadoo.nl\n",
      "rhost=d211-116-254-214.rev.krline.net\n",
      "rhost=p15105218.pureserver.info\n",
      "rhost=211-76-104-65.ebix.net.tw\n",
      "rhost=85.44.47.166\n",
      "rhost=60.30.224.116\n",
      "rhost=218.188.2.4\n",
      "rhost=h64-187-1-131.gtconnect.net\n",
      "rhost=massive.merukuru.org\n",
      "rhost=c9063558.virtua.com.br\n",
      "rhost=220-135-151-1.hinet-ip.hinet.net\n",
      "rhost=61-220-159-99.hinet-ip.hinet.net\n",
      "rhost=210.76.59.29\n",
      "rhost=195.129.24.210\n",
      "rhost=211.46.224.253\n",
      "rhost=troi.bluesky-technologies.com\n"
     ]
    }
   ],
   "source": [
    "syslogSSH.ssh_fail(logfile, ['sshd\\(pam_unix\\).*authentication failure.*'])"
   ],
   "metadata": {
    "collapsed": false,
    "pycharm": {
     "name": "#%%\n"
    }
   }
  },
  {
   "cell_type": "markdown",
   "source": [
    "### SU Open"
   ],
   "metadata": {
    "collapsed": false
   }
  },
  {
   "cell_type": "code",
   "execution_count": 72,
   "outputs": [
    {
     "name": "stdout",
     "output_type": "stream",
     "text": [
      "news\n",
      "cyrus\n"
     ]
    }
   ],
   "source": [
    "syslogSU.su_open(logfile, ['su\\(pam_unix\\).*session opened for user.*'])"
   ],
   "metadata": {
    "collapsed": false,
    "pycharm": {
     "name": "#%%\n"
    }
   }
  },
  {
   "cell_type": "markdown",
   "source": [
    "### FTP Connections"
   ],
   "metadata": {
    "collapsed": false
   }
  },
  {
   "cell_type": "code",
   "execution_count": 73,
   "outputs": [
    {
     "name": "stdout",
     "output_type": "stream",
     "text": [
      "81.171.220.226\n",
      "221.4.102.93\n",
      "203.101.45.59\n",
      "217.187.83.50\n",
      "218.69.108.57\n",
      "206.196.21.129\n",
      "217.187.83.139\n",
      "202.82.200.188\n",
      "218.146.61.230\n",
      "211.72.2.106\n",
      "210.245.165.136\n",
      "222.33.90.199\n",
      "83.116.207.11\n",
      "211.57.88.250\n",
      "211.107.232.1\n",
      "216.12.111.241\n",
      "62.99.164.82\n",
      "212.65.68.82\n",
      "207.30.238.8\n",
      "206.47.209.10\n",
      "61.74.96.178\n",
      "82.68.222.195\n",
      "211.42.188.206\n",
      "82.252.162.81\n",
      "24.54.76.216\n",
      "82.68.222.194\n",
      "211.72.151.162\n",
      "63.197.98.106\n",
      "82.83.227.67\n",
      "67.95.49.172\n",
      "208.62.55.75\n",
      "172.181.208.156\n",
      "210.223.97.117\n",
      "220.94.205.45\n",
      "218.38.58.3\n",
      "211.167.68.59\n",
      "84.102.20.2\n",
      "210.118.170.95\n"
     ]
    }
   ],
   "source": [
    "syslogFTPConnect.ftp_connect(logfile, ['ftpd.*connection from.*'])"
   ],
   "metadata": {
    "collapsed": false,
    "pycharm": {
     "name": "#%%\n"
    }
   }
  }
 ],
 "metadata": {
  "kernelspec": {
   "display_name": "Python 3",
   "language": "python",
   "name": "python3"
  },
  "language_info": {
   "codemirror_mode": {
    "name": "ipython",
    "version": 2
   },
   "file_extension": ".py",
   "mimetype": "text/x-python",
   "name": "python",
   "nbconvert_exporter": "python",
   "pygments_lexer": "ipython2",
   "version": "2.7.6"
  }
 },
 "nbformat": 4,
 "nbformat_minor": 0
}