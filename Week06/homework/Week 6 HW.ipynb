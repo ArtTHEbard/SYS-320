{
 "cells": [
  {
   "cell_type": "markdown",
   "metadata": {
    "collapsed": true,
    "pycharm": {
     "name": "#%% md\n"
    }
   },
   "source": [
    "## Homework Questions\n",
    "### What Python module **contains** the function to see if a file exists?\n",
    "In Python, one way to check if a file exists is with the os.path module.\n",
    "### What is the function **within the module** that checks to see if the file exists?\n",
    "Within the os.path module, the exists() funtion checks whether or not a file exists.\n",
    "### What Python module **contains** the function to remove a file?\n",
    "In Python, the os module contains the tools to remove a file.\n",
    "### What is the function **within the module** that removes the file?\n",
    "Within the os module, the os.remove() function is used to remove a file.\n",
    "### What standard Python function is used to take **input** from a user prompt?\n",
    "The input() function is used to take user input in Python."
   ]
  },
  {
   "cell_type": "code",
   "execution_count": 36,
   "outputs": [],
   "source": [
    "import sys\n",
    "\n",
    "import paramiko\n",
    "from getpass import getpass\n",
    "from os.path import exists\n",
    "import os\n",
    "\n",
    "# Check to see if output file exists. If file exists, ask user if they want to delete it.\n",
    "if exists('results.body') is True:\n",
    "    choice = input('Results File already exists! Would you like to delete it? (Y/N): ')\n",
    "    if choice == 'Y':\n",
    "        os.remove('results.body')\n",
    "    elif choice == 'N':\n",
    "        print('Continuing with existing results file present. WARNING: New resutls will be appended onto old results file.')\n",
    "    else:\n",
    "        print('Not a valid option. Goodbye')\n",
    "        sys.exit()\n",
    "\n",
    "# Create pass prompt\n",
    "thePass = getpass(prompt=\"Enter your password: \")\n",
    "\n",
    "# Host Info\n",
    "host = \"172.22.210.193\"\n",
    "port = \"22\"\n",
    "username = \"kali\"\n",
    "password = thePass\n",
    "\n",
    "try:\n",
    "\n",
    "    ssh = paramiko.SSHClient()\n",
    "    ssh.set_missing_host_key_policy(paramiko.AutoAddPolicy())\n",
    "    ssh.connect(host, port, username, password)\n",
    "except paramiko.AuthenticationException:\n",
    "    print(\"Authentication Failed\")"
   ],
   "metadata": {
    "collapsed": false,
    "pycharm": {
     "name": "#%%\n"
    }
   }
  },
  {
   "cell_type": "code",
   "execution_count": 37,
   "outputs": [],
   "source": [
    "# Start SFTP Session\n",
    "sftp = ssh.open_sftp()\n",
    "\n",
    "# List of files to upload\n",
    "upfiles = ['fs.py']\n",
    "\n",
    "for eachFile in upfiles:\n",
    "    local_path = '/tmp/' + eachFile\n",
    "    sftp.put(eachFile, local_path)\n",
    "\n",
    "# Run the uploaded script\n",
    "command = ['python3 /tmp/fs.py -d /usr/bin']\n",
    "\n",
    "for eachCMD in command:\n",
    "    # Get the output from the command\n",
    "    stdin, stout, stderr = ssh.exec_command(eachCMD)\n",
    "\n",
    "    # Get results from output\n",
    "    lines = stout.readlines()\n",
    "    # print(lines)\n",
    "\n",
    "    # Convert the list to a string.\n",
    "    output = ''.join(lines)\n",
    "\n",
    "    cmd_output = output\n",
    "\n",
    "    # Save to file\n",
    "    with open('results.body', 'a') as f:\n",
    "        f.write(cmd_output)\n",
    "\n",
    "\n",
    "sftp.close()"
   ],
   "metadata": {
    "collapsed": false,
    "pycharm": {
     "name": "#%%\n"
    }
   }
  }
 ],
 "metadata": {
  "kernelspec": {
   "display_name": "Python 3",
   "language": "python",
   "name": "python3"
  },
  "language_info": {
   "codemirror_mode": {
    "name": "ipython",
    "version": 2
   },
   "file_extension": ".py",
   "mimetype": "text/x-python",
   "name": "python",
   "nbconvert_exporter": "python",
   "pygments_lexer": "ipython2",
   "version": "2.7.6"
  }
 },
 "nbformat": 4,
 "nbformat_minor": 0
}