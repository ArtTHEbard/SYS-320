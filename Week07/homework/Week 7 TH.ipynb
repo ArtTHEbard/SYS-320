{
 "cells": [
  {
   "cell_type": "markdown",
   "source": [
    "## Connect to SSH"
   ],
   "metadata": {
    "collapsed": false,
    "pycharm": {
     "name": "#%% md\n"
    }
   }
  },
  {
   "cell_type": "code",
   "execution_count": 24,
   "outputs": [],
   "source": [
    "import sys\n",
    "\n",
    "import paramiko\n",
    "from getpass import getpass\n",
    "from os.path import exists\n",
    "import os\n",
    "\n",
    "# Check to see if output file exists. If file exists, ask user if they want to delete it.\n",
    "if exists('results.body') is True:\n",
    "    choice = input('Results File already exists! Would you like to delete it? (Y/N): ')\n",
    "    if choice == 'Y':\n",
    "        os.remove('results.body')\n",
    "    elif choice == 'N':\n",
    "        print('Continuing with existing results file present. WARNING: New resutls will be appended onto old results file.')\n",
    "    else:\n",
    "        print('Not a valid option. Goodbye')\n",
    "        sys.exit()\n",
    "\n",
    "# Create pass prompt\n",
    "thePass = getpass(prompt=\"Enter your password: \")\n",
    "\n",
    "# Host Info\n",
    "host = \"192.168.6.71\"\n",
    "port = \"2222\"\n",
    "username = \"samuel.johnson01\"\n",
    "password = thePass\n",
    "\n",
    "try:\n",
    "\n",
    "    ssh = paramiko.SSHClient()\n",
    "    ssh.set_missing_host_key_policy(paramiko.AutoAddPolicy())\n",
    "    ssh.connect(host, port, username, password)\n",
    "except paramiko.AuthenticationException:\n",
    "    print(\"Authentication Failed\")"
   ],
   "metadata": {
    "collapsed": false,
    "pycharm": {
     "name": "#%%\n"
    }
   }
  },
  {
   "cell_type": "markdown",
   "source": [
    "## Upload and Run Kraken"
   ],
   "metadata": {
    "collapsed": false
   }
  },
  {
   "cell_type": "code",
   "execution_count": 69,
   "outputs": [
    {
     "name": "stdout",
     "output_type": "stream",
     "text": [
      "\n",
      "\u001B[36mINFO\u001B[0m[0000] Looking for configuration file with name config.yaml \n",
      "\u001B[36mINFO\u001B[0m[0000] No configuration file found, generating a default one... \n",
      "\u001B[36mINFO\u001B[0m[0000] Loading Yara rules...                        \n",
      "\u001B[36mINFO\u001B[0m[0000] Scanning running processes...                \n",
      "\u001B[33mWARN\u001B[0m[0004] DETECTION! Malicious process detected as foundGoBinary  \u001B[33mpid\u001B[0m=3138 \u001B[33mprocess\u001B[0m=ls\n",
      "\u001B[33mWARN\u001B[0m[0004] DETECTION! Malicious process detected as foundGoBinary  \u001B[33mpid\u001B[0m=25680 \u001B[33mprocess\u001B[0m=snapd\n",
      "\u001B[36mINFO\u001B[0m[0014] Scanning autoruns...                         \n",
      "\u001B[33mWARN\u001B[0m[0015] DETECTION! Malicious autorun detected as foundGoBinary  \u001B[33mimage_path\u001B[0m=/usr/bin/snap \u001B[33mtype\u001B[0m=systemd\n",
      "\u001B[33mWARN\u001B[0m[0015] DETECTION! Malicious autorun detected as foundGoBinary  \u001B[33mimage_path\u001B[0m=/usr/bin/snap \u001B[33mtype\u001B[0m=systemd\n",
      "\u001B[36mINFO\u001B[0m[0016] Scanning the filesystem (this can take several minutes)... \n",
      "\u001B[31mERRO\u001B[0m[0016] Some malicious artifacts have been detected on this system: \n",
      "\u001B[31mERRO\u001B[0m[0016] Found detection for foundGoBinary            \n",
      "\u001B[31mERRO\u001B[0m[0016] Found detection for foundGoBinary            \n",
      "\u001B[31mERRO\u001B[0m[0016] Found detection for foundGoBinary            \n",
      "\u001B[31mERRO\u001B[0m[0016] Found detection for foundGoBinary            \n",
      "\n"
     ]
    }
   ],
   "source": [
    "# Start SFTP Session\n",
    "sftp = ssh.open_sftp()\n",
    "\n",
    "# List of files to upload\n",
    "upfiles = ['kraken']\n",
    "\n",
    "for eachFile in upfiles:\n",
    "    local_path = '/home/samuel.johnson01/' + eachFile\n",
    "    sftp.put(eachFile, local_path)\n",
    "\n",
    "# Run the uploaded script\n",
    "command = ['sudo -S chmod +x kraken', 'sudo -S ./kraken --folder /usr/bin  --folder  --folder /usr/sbin/   --folder /usr/local/bin  --folder /sbin  --folder /usr/local/sbin  --folder /bin']\n",
    "\n",
    "for eachCMD in command:\n",
    "    # Get the output from the command\n",
    "    stdin, stout, stderr = ssh.exec_command(eachCMD)\n",
    "\n",
    "    stdin.write(thePass + \"\\n\")\n",
    "    # Get results from output\n",
    "    lines = stout.readlines()\n",
    "\n",
    "    # Convert the list to a string.\n",
    "    output = ''.join(lines)\n",
    "\n",
    "    cmd_output = output\n",
    "\n",
    "    print(cmd_output)\n",
    "\n",
    "\n",
    "sftp.close()"
   ],
   "metadata": {
    "collapsed": false,
    "pycharm": {
     "name": "#%%\n"
    }
   }
  },
  {
   "cell_type": "markdown",
   "source": [
    "## Run LSOF Against suspicious PIDs"
   ],
   "metadata": {
    "collapsed": false,
    "pycharm": {
     "name": "#%% md\n"
    }
   }
  },
  {
   "cell_type": "code",
   "execution_count": 77,
   "outputs": [
    {
     "name": "stdout",
     "output_type": "stream",
     "text": [
      "COMMAND  PID     USER   FD      TYPE DEVICE SIZE/OFF   NODE NAME\n",
      "\n",
      "ls      3138 p.dalton  cwd       DIR    8,1     4096 258130 /home/p.dalton/test-lk\n",
      "\n",
      "ls      3138 p.dalton  rtd       DIR    8,1     4096      2 /\n",
      "\n",
      "ls      3138 p.dalton  txt       REG    8,1  6597697 258133 /usr/local/bin/ls\n",
      "\n",
      "ls      3138 p.dalton  DEL       REG    8,1            3453 /usr/lib/x86_64-linux-gnu/libc-2.31.so\n",
      "\n",
      "ls      3138 p.dalton  DEL       REG    8,1            3466 /usr/lib/x86_64-linux-gnu/libpthread-2.31.so\n",
      "\n",
      "ls      3138 p.dalton  DEL       REG    8,1            3449 /usr/lib/x86_64-linux-gnu/ld-2.31.so\n",
      "\n",
      "ls      3138 p.dalton    0r      CHR    1,3      0t0      6 /dev/null\n",
      "\n",
      "ls      3138 p.dalton    1w      REG    8,1       85 258135 /home/p.dalton/test-lk/.d.log\n",
      "\n",
      "ls      3138 p.dalton    2w      REG    8,1       85 258135 /home/p.dalton/test-lk/.d.log\n",
      "\n",
      "ls      3138 p.dalton    3r      CHR    1,3      0t0      6 /dev/null\n",
      "\n",
      "ls      3138 p.dalton    4u      REG    8,1        4 258134 /home/p.dalton/test-lk/d.pid\n",
      "\n",
      "ls      3138 p.dalton    5u     IPv6  33422      0t0    TCP *:http-alt (LISTEN)\n",
      "\n",
      "ls      3138 p.dalton    7u  a_inode   0,14        0  10376 [eventpoll]\n",
      "\n",
      "ls      3138 p.dalton    8r     FIFO   0,13      0t0  33424 pipe\n",
      "\n",
      "ls      3138 p.dalton    9w     FIFO   0,13      0t0  33424 pipe\n",
      "\n"
     ]
    }
   ],
   "source": [
    "# List to enter suspicious PIDs\n",
    "pid = ['3138']\n",
    "\n",
    "for val in pid:\n",
    "    cmd = \"sudo -S lsof -p \"+val\n",
    "    stdin, stout, stderr = ssh.exec_command(cmd)\n",
    "\n",
    "    stdin.write(thePass + \"\\n\")\n",
    "    # Get results from output\n",
    "    lines = stout.readlines()\n",
    "    for line in lines:\n",
    "        print(line)\n",
    "    # Convert the list to a string.\n",
    "    output = ''.join(lines)\n",
    "    cmd_output = output"
   ],
   "metadata": {
    "collapsed": false,
    "pycharm": {
     "name": "#%%\n"
    }
   }
  }
 ],
 "metadata": {
  "kernelspec": {
   "display_name": "Python 3",
   "language": "python",
   "name": "python3"
  },
  "language_info": {
   "codemirror_mode": {
    "name": "ipython",
    "version": 2
   },
   "file_extension": ".py",
   "mimetype": "text/x-python",
   "name": "python",
   "nbconvert_exporter": "python",
   "pygments_lexer": "ipython2",
   "version": "2.7.6"
  }
 },
 "nbformat": 4,
 "nbformat_minor": 0
}